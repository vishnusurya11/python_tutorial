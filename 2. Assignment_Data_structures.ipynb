{
 "cells": [
  {
   "cell_type": "code",
   "execution_count": 4,
   "metadata": {},
   "outputs": [],
   "source": [
    "\"\"\"\n",
    "1) Find the number of times 'p'(both upper and lower cases) appears in the given string\n",
    "\"\"\"\n",
    "\n",
    "my_string = 'Peter Piper picked a peck of pickled peppers.'\n"
   ]
  },
  {
   "cell_type": "code",
   "execution_count": null,
   "metadata": {},
   "outputs": [],
   "source": [
    "\"\"\"\n",
    "2) check if the word 'peck' appears in the given string\n",
    "\"\"\"\n",
    "\n",
    "my_string = 'Peter Piper picked a peck of pickled peppers.'\n"
   ]
  },
  {
   "cell_type": "code",
   "execution_count": 7,
   "metadata": {},
   "outputs": [],
   "source": [
    "\"\"\"\n",
    "3) reverse the given string\n",
    "\"\"\"\n",
    "\n",
    "my_string = 'Peter Piper picked a peck of pickled peppers'\n"
   ]
  },
  {
   "cell_type": "code",
   "execution_count": 8,
   "metadata": {},
   "outputs": [
    {
     "data": {
      "text/plain": [
       "'\"\\n4) Define an empty list \\'my_list\\' first and add the elements \\'1\\',\\'hello\\'\\n'"
      ]
     },
     "execution_count": 8,
     "metadata": {},
     "output_type": "execute_result"
    }
   ],
   "source": [
    "\"\"\"\"\n",
    "4) Define an empty list 'my_list' first and add the elements '1','hello'\n",
    "\n",
    "\"\"\""
   ]
  },
  {
   "cell_type": "code",
   "execution_count": null,
   "metadata": {},
   "outputs": [],
   "source": [
    "\"\"\"\"\n",
    "5) Define an empty dict 'my_dict' first and add the key value pairs {'1' : 'hello', '2':'how','3':'are','4':'you?'}\n",
    "\n",
    "\"\"\""
   ]
  },
  {
   "cell_type": "code",
   "execution_count": null,
   "metadata": {},
   "outputs": [],
   "source": [
    "\"\"\"\n",
    "6) remove the duplicates from the given list\n",
    "\"\"\"\n",
    "\n",
    "my_list = [1,6,9,'hello','new',1,9,'hello',[1,2,3,4]]"
   ]
  }
 ],
 "metadata": {
  "kernelspec": {
   "display_name": "Python 3",
   "language": "python",
   "name": "python3"
  },
  "language_info": {
   "codemirror_mode": {
    "name": "ipython",
    "version": 3
   },
   "file_extension": ".py",
   "mimetype": "text/x-python",
   "name": "python",
   "nbconvert_exporter": "python",
   "pygments_lexer": "ipython3",
   "version": "3.7.2"
  }
 },
 "nbformat": 4,
 "nbformat_minor": 2
}
