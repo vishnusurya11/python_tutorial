{
 "cells": [
  {
   "cell_type": "markdown",
   "metadata": {},
   "source": [
    "# Introduction to Python "
   ]
  },
  {
   "cell_type": "markdown",
   "metadata": {},
   "source": [
    "Dowlad python 3 64bit from here\n",
    "- https://www.python.org/downloads/\n",
    "\n"
   ]
  },
  {
   "cell_type": "markdown",
   "metadata": {},
   "source": [
    "Python Documentation is available here \n",
    "\n",
    "\n",
    "- https://docs.python.org/3/tutorial/index.html"
   ]
  },
  {
   "cell_type": "markdown",
   "metadata": {},
   "source": [
    "Download Notepad++ from here\n",
    "\n",
    "- https://notepad-plus-plus.org/download/v7.6.6.html"
   ]
  },
  {
   "cell_type": "markdown",
   "metadata": {},
   "source": [
    "Dowload Sublime text from here\n",
    "- https://www.sublimetext.com/3"
   ]
  },
  {
   "cell_type": "markdown",
   "metadata": {},
   "source": [
    "To install Jupyter Notebook run the follwoing command on the terminal:\n",
    "\n",
    "`pip install jupyter notebook`"
   ]
  },
  {
   "cell_type": "markdown",
   "metadata": {},
   "source": [
    "# Key Differences between Python 2 and Python 3"
   ]
  },
  {
   "cell_type": "markdown",
   "metadata": {},
   "source": [
    "- Print statements\n",
    "\n",
    "In python 2.7 we can use both print statements\n",
    "\n",
    "print 'Hello'\n",
    "\n",
    "print('Hello')\n",
    "\n",
    "In Python 3 we can only use print statement with paranthesis\n",
    "\n",
    "print('Hello')\n",
    "\n",
    "- Division in python\n",
    "\n",
    "In python 2.7 \n",
    "\n",
    "3 / 2 = 1\n",
    "3 // 2 = 1\n",
    "\n",
    "In python 3\n",
    "\n",
    "3 / 2 = 1.5\n",
    "3 // 2 = 1"
   ]
  },
  {
   "cell_type": "markdown",
   "metadata": {},
   "source": [
    "for more detailed differences between python 2.7 and python 3 click on the link : \n",
    "\n",
    "http://sebastianraschka.com/Articles/2014_python_2_3_key_diff.html"
   ]
  }
 ],
 "metadata": {
  "kernelspec": {
   "display_name": "Python 3",
   "language": "python",
   "name": "python3"
  },
  "language_info": {
   "codemirror_mode": {
    "name": "ipython",
    "version": 3
   },
   "file_extension": ".py",
   "mimetype": "text/x-python",
   "name": "python",
   "nbconvert_exporter": "python",
   "pygments_lexer": "ipython3",
   "version": "3.7.2"
  }
 },
 "nbformat": 4,
 "nbformat_minor": 2
}
