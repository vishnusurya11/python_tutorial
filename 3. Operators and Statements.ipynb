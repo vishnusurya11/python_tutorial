{
 "cells": [
  {
   "cell_type": "markdown",
   "metadata": {},
   "source": [
    "# Comparison operators"
   ]
  },
  {
   "cell_type": "code",
   "execution_count": null,
   "metadata": {},
   "outputs": [],
   "source": [
    "# to check if the given values or equal == --> True False\n",
    "\n",
    "\n",
    "1 == 1 "
   ]
  },
  {
   "cell_type": "code",
   "execution_count": null,
   "metadata": {},
   "outputs": [],
   "source": [
    "# !=\n",
    "\n",
    "a = 100 \n",
    "b = 20 "
   ]
  },
  {
   "cell_type": "code",
   "execution_count": null,
   "metadata": {},
   "outputs": [],
   "source": [
    "a != b "
   ]
  },
  {
   "cell_type": "code",
   "execution_count": null,
   "metadata": {},
   "outputs": [],
   "source": []
  },
  {
   "cell_type": "code",
   "execution_count": null,
   "metadata": {},
   "outputs": [],
   "source": [
    "# > greater than < less than\n",
    "\n",
    "a = 2 \n",
    " \n",
    "b = 5"
   ]
  },
  {
   "cell_type": "code",
   "execution_count": null,
   "metadata": {},
   "outputs": [],
   "source": [
    "a> b"
   ]
  },
  {
   "cell_type": "code",
   "execution_count": null,
   "metadata": {},
   "outputs": [],
   "source": [
    " a < b"
   ]
  },
  {
   "cell_type": "code",
   "execution_count": null,
   "metadata": {},
   "outputs": [],
   "source": [
    "# >=  <=\n",
    "a = 3 \n",
    "b = 3 \n",
    "\n"
   ]
  },
  {
   "cell_type": "code",
   "execution_count": null,
   "metadata": {},
   "outputs": [],
   "source": [
    "a <= b"
   ]
  },
  {
   "cell_type": "code",
   "execution_count": null,
   "metadata": {},
   "outputs": [],
   "source": [
    "# and  or\n",
    "\n",
    "True and True"
   ]
  },
  {
   "cell_type": "code",
   "execution_count": null,
   "metadata": {},
   "outputs": [],
   "source": [
    "(2 == 2) or (3 > 5)"
   ]
  },
  {
   "cell_type": "markdown",
   "metadata": {},
   "source": [
    "a = 3 \n",
    "b = 3 \n",
    "c = 1"
   ]
  },
  {
   "cell_type": "code",
   "execution_count": null,
   "metadata": {},
   "outputs": [],
   "source": []
  },
  {
   "cell_type": "markdown",
   "metadata": {},
   "source": [
    "# IF"
   ]
  },
  {
   "cell_type": "markdown",
   "metadata": {},
   "source": [
    "if condition:\n",
    "    do something\n",
    "    "
   ]
  },
  {
   "cell_type": "code",
   "execution_count": null,
   "metadata": {},
   "outputs": [],
   "source": [
    "a = 2 \n",
    "\n",
    "if a == 1:\n",
    "    print('a value is 1')\n",
    "    print('inside the if block')\n",
    "print('end of the code')"
   ]
  },
  {
   "cell_type": "code",
   "execution_count": null,
   "metadata": {},
   "outputs": [],
   "source": [
    "a = 2 \n",
    "\n",
    "if a == 1:\n",
    "    print('a value is 1')\n",
    "    print('inside the if block')\n",
    "else:\n",
    "    print('condition was false, so in else block')\n",
    "print('end of the code')"
   ]
  },
  {
   "cell_type": "code",
   "execution_count": null,
   "metadata": {},
   "outputs": [],
   "source": [
    "a = 5\n",
    "\n",
    "if a < 0 :\n",
    "    print('a is less than 0')\n",
    "elif  0 < a < 10:\n",
    "    print('a value is between 0 and 10')\n",
    "else:\n",
    "    print('a value is greater than 10')\n",
    "print('--end--')"
   ]
  },
  {
   "cell_type": "markdown",
   "metadata": {},
   "source": [
    "## For loop"
   ]
  },
  {
   "cell_type": "markdown",
   "metadata": {},
   "source": [
    "for i in iterable:\n",
    "    do something "
   ]
  },
  {
   "cell_type": "code",
   "execution_count": null,
   "metadata": {},
   "outputs": [],
   "source": [
    "a = [1,2,3,4,5]"
   ]
  },
  {
   "cell_type": "code",
   "execution_count": null,
   "metadata": {},
   "outputs": [],
   "source": [
    "for value in [1,2,3]:\n",
    "    print('new iteration')\n",
    "    print(value)\n",
    "    print('----------')"
   ]
  },
  {
   "cell_type": "code",
   "execution_count": null,
   "metadata": {},
   "outputs": [],
   "source": [
    "for a in 'hello world!!':\n",
    "    print(a)"
   ]
  },
  {
   "cell_type": "code",
   "execution_count": null,
   "metadata": {},
   "outputs": [],
   "source": [
    "n = 11"
   ]
  },
  {
   "cell_type": "code",
   "execution_count": null,
   "metadata": {},
   "outputs": [],
   "source": [
    "type(range(10))"
   ]
  },
  {
   "cell_type": "code",
   "execution_count": null,
   "metadata": {},
   "outputs": [],
   "source": [
    "for i in range(0,n,3):\n",
    "    print(i)"
   ]
  },
  {
   "cell_type": "code",
   "execution_count": null,
   "metadata": {},
   "outputs": [],
   "source": [
    "help(range)"
   ]
  },
  {
   "cell_type": "markdown",
   "metadata": {},
   "source": [
    "## While"
   ]
  },
  {
   "cell_type": "markdown",
   "metadata": {},
   "source": [
    "while condition:\n",
    "    do something"
   ]
  },
  {
   "cell_type": "code",
   "execution_count": null,
   "metadata": {},
   "outputs": [],
   "source": [
    "a = 1 \n",
    "\n",
    "while a < 10 :\n",
    "    print(f'a value is {a}')\n",
    "    a += 1"
   ]
  },
  {
   "cell_type": "code",
   "execution_count": null,
   "metadata": {},
   "outputs": [],
   "source": [
    "a = 1 \n",
    "\n",
    "while a < 10 :\n",
    "    if a % 2 == 0:\n",
    "        print(f'a is even --- a value is {a}')\n",
    "    else:\n",
    "        print(f'a is odd --- a value is {a}')\n",
    "    a += 1"
   ]
  },
  {
   "cell_type": "code",
   "execution_count": null,
   "metadata": {},
   "outputs": [],
   "source": [
    "# continue \n",
    "\n",
    "print('before for loop')\n",
    "for i in 'hello world':\n",
    "    if i == 'l':\n",
    "        continue\n",
    "    print(i)\n",
    "print('outside the for loop')"
   ]
  },
  {
   "cell_type": "code",
   "execution_count": null,
   "metadata": {},
   "outputs": [],
   "source": [
    "# break\n",
    "\n",
    "print('before for loop')\n",
    "for i in 'hello world':\n",
    "    if i == 'l':\n",
    "        break\n",
    "    print(i)\n",
    "print('outside the for loop')"
   ]
  },
  {
   "cell_type": "code",
   "execution_count": null,
   "metadata": {},
   "outputs": [],
   "source": [
    "#pass \n",
    "a = 1 \n",
    "print('start of the statement')\n",
    "if a == 1 :\n",
    "    pass\n",
    "print('outside the if block')"
   ]
  },
  {
   "cell_type": "code",
   "execution_count": 2,
   "metadata": {},
   "outputs": [
    {
     "name": "stdout",
     "output_type": "stream",
     "text": [
      "1\n",
      "2\n",
      "3\n",
      "4\n",
      "the value of a is 5\n",
      "outside the while loop\n"
     ]
    }
   ],
   "source": [
    "a = 1 \n",
    "\n",
    "while a < 10:\n",
    "    if a == 5 :\n",
    "        break\n",
    "    print(a)\n",
    "    a+=1\n",
    "print(f'the value of a is {a}')\n",
    "print('outside the while loop')"
   ]
  },
  {
   "cell_type": "code",
   "execution_count": 8,
   "metadata": {},
   "outputs": [
    {
     "name": "stdout",
     "output_type": "stream",
     "text": [
      "I live in portland\n"
     ]
    }
   ],
   "source": [
    "xyz = 'portland'\n",
    "\n",
    "print(f'I live in {xyz}')"
   ]
  },
  {
   "cell_type": "code",
   "execution_count": null,
   "metadata": {},
   "outputs": [],
   "source": []
  },
  {
   "cell_type": "code",
   "execution_count": null,
   "metadata": {},
   "outputs": [],
   "source": []
  }
 ],
 "metadata": {
  "kernelspec": {
   "display_name": "Python 3",
   "language": "python",
   "name": "python3"
  },
  "language_info": {
   "codemirror_mode": {
    "name": "ipython",
    "version": 3
   },
   "file_extension": ".py",
   "mimetype": "text/x-python",
   "name": "python",
   "nbconvert_exporter": "python",
   "pygments_lexer": "ipython3",
   "version": "3.7.2"
  }
 },
 "nbformat": 4,
 "nbformat_minor": 2
}
